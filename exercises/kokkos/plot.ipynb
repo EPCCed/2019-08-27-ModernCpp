{
 "cells": [
  {
   "cell_type": "code",
   "execution_count": null,
   "metadata": {},
   "outputs": [],
   "source": [
    "import numpy as np\n",
    "import pandas as pd\n",
    "import seaborn as sns\n",
    "import matplotlib.pyplot as plt\n",
    "import io\n",
    "%matplotlib inline\n",
    "\n",
    "def scatterplot(data, x, y, **kwargs):\n",
    "    # Cirrus has an old version of Seaborn - work around lack of sns.scatterplot\n",
    "    if sns.__version__ < '0.9':\n",
    "        grid = sns.FacetGrid(data, **kwargs)\n",
    "        grid.map(plt.scatter, x, y).add_legend()\n",
    "        return grid\n",
    "    return sns.scatterplot(data=data, x=x, y=y, **kwargs)\n",
    "\n",
    "\n",
    "def munge_csv_datasets(*dsets):\n",
    "    ans = []\n",
    "    for raw in dsets:\n",
    "        new = pd.read_csv(io.StringIO(raw), sep=', *',engine='python')\n",
    "        new['nrows'] = 2**new['N']\n",
    "        new['ncols'] = 2**new['M']\n",
    "        new.drop(columns=['N', 'M'])\n",
    "        ans.append(new)\n",
    "    return pd.concat(ans)"
   ]
  },
  {
   "cell_type": "code",
   "execution_count": null,
   "metadata": {},
   "outputs": [],
   "source": [
    "# Example data - replace with your measurements!\n",
    "# CPU results\n",
    "raw_cpu = '''exec_space, layout, cores, N, M, bandwidth\n",
    "OpenMP, default, 10, 8, 14, 45.981\n",
    "OpenMP, default, 10, 10, 12, 45.9073\n",
    "OpenMP, default, 10, 12, 10, 45.8484\n",
    "OpenMP, default, 10, 14, 8, 45.8484\n",
    "OpenMP, default, 10, 16, 6, 43.5089\n",
    "'''\n",
    "# GPU results. NB: 84 SMs per GV100\n",
    "raw_gpu = '''exec_space,layout, cores, N, M, bandwidth\n",
    "CudaUVM, default, 84, 8, 14, 10.9454\n",
    "CudaUVM, default, 84, 10, 12, 37.5838\n",
    "CudaUVM, default, 84, 12, 10, 101.408\n",
    "CudaUVM, default, 84, 14, 8, 179.82\n",
    "CudaUVM, default, 84, 16, 6, 214.254\n",
    "'''\n",
    "\n",
    "data = munge_csv_datasets(raw_cpu, raw_gpu)"
   ]
  },
  {
   "cell_type": "code",
   "execution_count": null,
   "metadata": {},
   "outputs": [],
   "source": [
    "fig = scatterplot(data, 'nrows', 'bandwidth', col='exec_space', hue='layout')\n",
    "fig.set(xscale='log')"
   ]
  },
  {
   "cell_type": "code",
   "execution_count": null,
   "metadata": {},
   "outputs": [],
   "source": []
  }
 ],
 "metadata": {
  "kernelspec": {
   "display_name": "Python 3",
   "language": "python",
   "name": "python3"
  },
  "language_info": {
   "codemirror_mode": {
    "name": "ipython",
    "version": 3
   },
   "file_extension": ".py",
   "mimetype": "text/x-python",
   "name": "python",
   "nbconvert_exporter": "python",
   "pygments_lexer": "ipython3",
   "version": "3.6.4"
  }
 },
 "nbformat": 4,
 "nbformat_minor": 1
}
